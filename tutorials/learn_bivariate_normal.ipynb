{
 "cells": [
  {
   "cell_type": "markdown",
   "metadata": {},
   "source": [
    "# Your First Flow\n",
    "## The Task\n",
    "Let's begin our Normalizing Flow journey with a simple example! We'll train a flow to transform standard normal noise to samples from an arbitrary bivariate normal distribution.\n",
    "\n",
    "That is, the base distribution is,\n",
    "$$\n",
    "\\begin{aligned}\n",
    "  X &\\sim \\mathcal{N}\\left(\\mu=\\begin{bmatrix}\n",
    "   0 \\\\\n",
    "   0\n",
    "\\end{bmatrix}, \\Sigma=\\begin{bmatrix}\n",
    "   1 & 0 \\\\\n",
    "   0 & 1\n",
    "\\end{bmatrix} \\right)\n",
    "\\end{aligned},\n",
    "$$\n",
    "the target distribution to learn is,\n",
    "$$\n",
    "\\begin{aligned}\n",
    "  Y' &\\sim \\mathcal{N}\\left(\\mu=\\begin{bmatrix}\n",
    "   5 \\\\\n",
    "   5\n",
    "\\end{bmatrix}, \\Sigma=\\begin{bmatrix}\n",
    "   0.5 & 0 \\\\\n",
    "   0 & 0.5\n",
    "\\end{bmatrix} \\right)\n",
    "\\end{aligned},\n",
    "$$\n",
    "and the task is to learn some bijection $g_\\theta$ so that\n",
    "$$\n",
    "\\begin{aligned}\n",
    "  Y &\\triangleq g_\\theta(X) \\\\\n",
    "  &\\sim Y'\n",
    "\\end{aligned}\n",
    "$$\n",
    "approximately holds.\n",
    "\n",
    "We will define our Normalizing Flow, $g_\\theta$, by a single affine transformation,\n",
    "$$\n",
    "\\begin{aligned}\n",
    "  g_\\theta(\\mathbf{x}) &\\triangleq \\begin{bmatrix}\n",
    "   \\mu_1 \\\\\n",
    "   \\mu_2(x_1)\n",
    "\\end{bmatrix} + \\begin{bmatrix}\n",
    "   \\sigma_1 \\\\\n",
    "   \\sigma_2(x_1)\n",
    "\\end{bmatrix}\\otimes\\begin{bmatrix}\n",
    "   x_1 \\\\\n",
    "   x_2\n",
    "\\end{bmatrix}.\n",
    "\\end{aligned}\n",
    "$$\n",
    "In this notation, $\\mathbf{x}=(x_1,x_2)^T$, $\\otimes$ denotes element-wise multiplication, and the parameters are the scalars $\\mu_1,\\sigma_1$ and the parameters of the neural networks $\\mu_2(\\cdot)$ and $\\sigma_2(\\cdot)$. (Think of the NNs as very simple shallow feedforward nets in this example.) This is an example of [Inverse Autoregressive Flow](/dev/bibliography#kingma2016improving).\n",
    "\n",
    "There are several metrics we could use to train $Y$ to be close in distribution to $Y'$. Denote the target distribution of $Y'$ by $p(\\cdot)$ and the learnable distribution of the normalizing flow, $Y$, as $q_\\theta(\\cdot)$ (in the following sections, we will explain how to calculate $q_\\theta$ from $g_\\theta$). Let's use the forward [KL-divergence](https://en.wikipedia.org/wiki/Kullback%E2%80%93Leibler_divergence),\n",
    "$$\n",
    "\\begin{aligned}\n",
    "\\text{KL}\\{p\\ ||\\ q_\\theta\\} &\\triangleq \\mathbb{E}_{p(\\cdot)}\\left[\\log\\frac{p(Y')}{q_\\theta(Y')}\\right] \\\\\n",
    "&= -\\mathbb{E}_{p(\\cdot)}\\left[\\log q_\\theta(Y')\\right] + C,\n",
    "\\end{aligned}\n",
    "$$\n",
    "where C is a constant that does not depend on $\\theta$. In practice, we draw a finite sample, $\\{y_1,\\ldots,y_M\\}$, from $p$ and optimize a [Monte Carlo estimate](https://en.wikipedia.org/wiki/Monte_Carlo_integration) of the KL-divergence with stochastic gradient descent so that the loss is,\n",
    "$$\n",
    "\\begin{aligned}\n",
    "   \\mathcal{L}(\\theta) &= -\\frac{1}{M}\\sum^M_{m=1}\\log(q_\\theta(y_m))\n",
    "\\end{aligned}\n",
    "$$\n",
    "\n",
    "*So, to summarize, the task at hand is to learn how to transform standard bivariate normal noise into another bivariate normal distribution using an affine transformation, and we will do so by matching distributions with the KL-divergence metric.*"
   ]
  },
  {
   "cell_type": "markdown",
   "metadata": {},
   "source": [
    "## Implementation\n",
    "First, we import the relevant libraries:"
   ]
  },
  {
   "cell_type": "code",
   "execution_count": 1,
   "metadata": {},
   "outputs": [],
   "source": [
    "import torch\n",
    "import flowtorch.bijectors as B\n",
    "import flowtorch.distributions as D\n",
    "import flowtorch.parameters as P"
   ]
  },
  {
   "cell_type": "markdown",
   "metadata": {},
   "source": [
    "The base and target distributions are defined using standard PyTorch:"
   ]
  },
  {
   "cell_type": "code",
   "execution_count": 2,
   "metadata": {},
   "outputs": [],
   "source": [
    "base_dist = torch.distributions.Independent(\n",
    "  torch.distributions.Normal(torch.zeros(2), torch.ones(2)), \n",
    "  1\n",
    ")\n",
    "target_dist = torch.distributions.Independent(\n",
    "  torch.distributions.Normal(torch.zeros(2)+5, torch.ones(2)*0.5),\n",
    "  1\n",
    ")"
   ]
  },
  {
   "cell_type": "markdown",
   "metadata": {},
   "source": [
    "Note the use of [`torch.distributions.Independent`](https://pytorch.org/docs/stable/distributions.html#independent) so that our base and target distributions are *vector valued*."
   ]
  },
  {
   "cell_type": "markdown",
   "metadata": {},
   "source": [
    "A Normalizing Flow is created in two steps. First, we create a \"plan\" for the flow as a [`flowtorch.bijectors.Bijector`](https://flowtorch.ai/api/flowtorch.bijectors.bijector) object,"
   ]
  },
  {
   "cell_type": "code",
   "execution_count": 3,
   "metadata": {},
   "outputs": [],
   "source": [
    "# Lazily instantiated flow\n",
    "bijector = B.AffineAutoregressive()"
   ]
  },
  {
   "cell_type": "markdown",
   "metadata": {},
   "source": [
    "This plan is then made concrete by combining it with the base distributions, which provides the input shape, and constructing a [`flowtorch.distributions.Flow`](https://flowtorch.ai/api/flowtorch.distributions.flow) object, an extension of [`torch.distributions.Distribution`](https://pytorch.org/docs/stable/distributions.html#distribution):"
   ]
  },
  {
   "cell_type": "code",
   "execution_count": 4,
   "metadata": {},
   "outputs": [],
   "source": [
    "# Instantiate transformed distribution and parameters\n",
    "flow = D.Flow(base_dist, bijector)"
   ]
  },
  {
   "cell_type": "markdown",
   "metadata": {},
   "source": [
    "At this point, we have an object, `flow`, for the distribution, $q_\\theta(\\cdot)$, that follows the standard PyTorch interface."
   ]
  },
  {
   "cell_type": "markdown",
   "metadata": {},
   "source": [
    "We can visualize samples from the base and target distributions as well as the flow before training:"
   ]
  },
  {
   "cell_type": "code",
   "execution_count": 5,
   "metadata": {},
   "outputs": [
    {
     "data": {
      "image/png": "[encoded data removed]",
      "text/plain": [
       "<Figure size 432x288 with 1 Axes>"
      ]
     },
     "metadata": {
      "needs_background": "light"
     },
     "output_type": "display_data"
    }
   ],
   "source": [
    "import matplotlib.pyplot as plt\n",
    "plt.axis([-4., 8., -4., 8.])\n",
    "\n",
    "base_samples = base_dist.sample((1000,))\n",
    "target_samples = target_dist.sample((1000,))\n",
    "flow_samples = flow.sample((1000,))\n",
    "\n",
    "plt.scatter(base_samples[:,0], base_samples[:,1], label='base', c='grey')\n",
    "plt.scatter(target_samples[:,0], target_samples[:,1], label='target', c='blue')\n",
    "plt.scatter(flow_samples[:,0], flow_samples[:,1], label='flow', c='red')\n",
    "\n",
    "plt.legend()\n",
    "plt.show()"
   ]
  },
  {
   "cell_type": "markdown",
   "metadata": {},
   "source": [
    "Since `flow` follows the standard inference for [`torch.distributions`](https://pytorch.org/docs/stable/distributions.html), it can be trained with the following code, which will be familiar to PyTorch users:"
   ]
  },
  {
   "cell_type": "code",
   "execution_count": 6,
   "metadata": {},
   "outputs": [
    {
     "name": "stdout",
     "output_type": "stream",
     "text": [
      "epoch 0 loss 20.42441177368164\n",
      "epoch 500 loss 3.5910611152648926\n",
      "epoch 1000 loss 3.3313257694244385\n",
      "epoch 1500 loss 3.024606704711914\n",
      "epoch 2000 loss 2.4530959129333496\n",
      "epoch 2500 loss 1.5909523963928223\n",
      "epoch 3000 loss 1.478494644165039\n"
     ]
    }
   ],
   "source": [
    "# Training loop\n",
    "opt = torch.optim.Adam(flow.parameters(), lr=5e-3)\n",
    "for idx in range(3001):\n",
    "    opt.zero_grad()\n",
    "\n",
    "    # Minimize KL(p || q)\n",
    "    y = target_dist.sample((1000,))\n",
    "    loss = -flow.log_prob(y).mean()\n",
    "\n",
    "    if idx % 500 == 0:\n",
    "        print('epoch', idx, 'loss', loss.item())\n",
    "\n",
    "    loss.backward()\n",
    "    opt.step()"
   ]
  },
  {
   "cell_type": "markdown",
   "metadata": {},
   "source": [
    "Note how we obtain the learnable parameters of the normalizing flow from the `flow` object, which is a [`torch.nn.Module`](https://pytorch.org/docs/stable/generated/torch.nn.Module.html#torch.nn.Module). Visualizing samples after learning, we see that we have been successful in matching the target distribution:"
   ]
  },
  {
   "cell_type": "code",
   "execution_count": 7,
   "metadata": {},
   "outputs": [
    {
     "data": {
      "image/png": "[encoded data removed]",
      "text/plain": [
       "<Figure size 432x288 with 1 Axes>"
      ]
     },
     "metadata": {
      "needs_background": "light"
     },
     "output_type": "display_data"
    }
   ],
   "source": [
    "fig = plt.figure()\n",
    "plt.axis([-4., 8., -4., 8.])\n",
    "\n",
    "flow_samples = flow.sample((1000,))\n",
    "\n",
    "plt.scatter(base_samples[:,0], base_samples[:,1], label='base', c='grey')\n",
    "plt.scatter(target_samples[:,0], target_samples[:,1], label='target', c='blue')\n",
    "plt.scatter(flow_samples[:,0], flow_samples[:,1], label='flow', c='red')\n",
    "\n",
    "plt.legend()\n",
    "plt.show()"
   ]
  },
  {
   "cell_type": "markdown",
   "metadata": {},
   "source": [
    "Congratulations on training your first flow!"
   ]
  },
  {
   "cell_type": "markdown",
   "metadata": {},
   "source": [
    "## Discussion\n",
    "\n",
    "This simple example illustrates a few important points of FlowTorch's design:\n",
    "\n",
    "Firstly, `Bijector` objects are agnostic to their shape. A `Bijector` object specifies *how the shape is changed* by the forward and inverse operations, and then calculates the exact shapes when it obtains knowledge of the base distribution, when `flow = dist.Flow(base_dist, bijector)` is run. Any neural networks or other parametrized functions, which also require this shape information, are not instantiated until the same moment. In this sense, a `Bijector` can be thought of as a lazy plan for creating a normalizing flow. The advantage of doing things this way is that the shape information can be \"type checked\" and does not need to be specified in multiple locations (ensuring these quantities are consistent).\n",
    "\n",
    "Secondly, all objects are designed to have sensible defaults. We do not need to define the conditioning network for [`bijectors.AffineAutoregressive`](https://flowtorch.ai/api/flowtorch.bijectors.affineautoregressive), it will use a [MADE network](https://flowtorch.ai/dev/bibliography#germain2015made) with sensible hyperparameters and defer initialization until it later receives shape information.\n",
    "\n",
    "Thirdly, there is compatibility, in as far as is possible, with standard PyTorch interfaces such as [`torch.distributions`](https://pytorch.org/docs/stable/distributions.html).\n"
   ]
  }
 ],
 "metadata": {
  "interpreter": {
   "hash": "4a889874aef137a58c8f92e3ed6912ec441c66e3cc8f3752c91ed486cb306b1b"
  },
  "kernelspec": {
   "display_name": "Python 3.8.5 ('base')",
   "language": "python",
   "name": "python3"
  },
  "language_info": {
   "codemirror_mode": {
    "name": "ipython",
    "version": 3
   },
   "file_extension": ".py",
   "mimetype": "text/x-python",
   "name": "python",
   "nbconvert_exporter": "python",
   "pygments_lexer": "ipython3",
   "version": "3.8.5"
  },
  "orig_nbformat": 4
 },
 "nbformat": 4,
 "nbformat_minor": 2
}
