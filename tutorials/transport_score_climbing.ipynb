{
 "cells": [
  {
   "cell_type": "markdown",
   "metadata": {},
   "source": [
    "# Transport Score Climbing\n",
    "This tutorial demonstrates a recently developed method for Bayesian inference called Transport Score Climbing ([Zhang et al., 2022](https://arxiv.org/abs/2202.01841)). We explain how the method works, how to implement it using FlowTorch, and demonstrate a simple toy example, replicating Figure 3 from [the paper](https://arxiv.org/pdf/2202.01841.pdf), and comparing to standard variational inference."
   ]
  },
  {
   "cell_type": "markdown",
   "metadata": {},
   "source": []
  }
 ],
 "metadata": {
  "language_info": {
   "name": "python"
  },
  "orig_nbformat": 4
 },
 "nbformat": 4,
 "nbformat_minor": 2
}
